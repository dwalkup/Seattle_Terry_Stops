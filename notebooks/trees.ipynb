{
 "cells": [
  {
   "cell_type": "markdown",
   "metadata": {},
   "source": [
    "# Data Modeling with a Decision Tree\n",
    "\n",
    "Decision Tree model was added to aid in feature selection."
   ]
  },
  {
   "cell_type": "code",
   "execution_count": 1,
   "metadata": {},
   "outputs": [],
   "source": [
    "import matplotlib.pyplot as plt\n",
    "import seaborn as sns; sns.set()\n",
    "%matplotlib inline\n",
    "\n",
    "import pandas as pd\n",
    "import numpy as np\n",
    "\n",
    "from mlxtend.plotting import plot_decision_regions\n",
    "from sklearn.svm import SVC, LinearSVC\n",
    "from sklearn.linear_model import LogisticRegression\n",
    "from sklearn.preprocessing import KBinsDiscretizer, FunctionTransformer\n",
    "from sklearn.model_selection import cross_val_score, train_test_split, GridSearchCV\n",
    "from category_encoders import WOEEncoder, TargetEncoder\n",
    "from sklearn.pipeline import make_pipeline, Pipeline\n",
    "\n",
    "from sklearn.tree import DecisionTreeClassifier\n",
    "from sklearn.tree import export_graphviz\n",
    "import graphviz\n",
    "from sklearn.tree._tree import TREE_LEAF\n",
    "\n",
    "from sklearn.preprocessing import PolynomialFeatures as Poly\n",
    "\n",
    "from mlxtend.evaluate import feature_importance_permutation\n",
    "\n",
    "from mlxtend.feature_extraction import PrincipalComponentAnalysis\n",
    "from mlxtend.preprocessing import standardize\n",
    "\n",
    "from mlxtend.feature_extraction import RBFKernelPCA as KPCA\n",
    "from pyearth import Earth\n",
    "\n",
    "from mlxtend.plotting import plot_pca_correlation_graph\n",
    "\n",
    "# from umap import UMAP\n",
    "\n",
    "import warnings\n",
    "warnings.filterwarnings(\"ignore\")"
   ]
  },
  {
   "cell_type": "code",
   "execution_count": 2,
   "metadata": {},
   "outputs": [],
   "source": [
    "def stringify(data):\n",
    "    if type(data) != pd.core.frame.DataFrame:\n",
    "        X = pd.DataFrame(data)\n",
    "    else:\n",
    "        X = data\n",
    "        \n",
    "    for c in X.columns.tolist():\n",
    "        X[c] = X[c].astype(str)\n",
    "#     X = X.applymap(str)\n",
    "    return X\n",
    "\n",
    "objectify = FunctionTransformer(func = stringify, check_inverse = False, validate=False)\n",
    "binner = KBinsDiscretizer(n_bins = 10, encode = 'ordinal')\n",
    "poly = Poly(degree=3)\n",
    "encoder = WOEEncoder()"
   ]
  },
  {
   "cell_type": "code",
   "execution_count": 3,
   "metadata": {},
   "outputs": [],
   "source": [
    "def plot_tree(dt, used_cols, out_file='mytree.dot'):\n",
    "    export_graphviz(dt, out_file=out_file, \n",
    "                    filled=True, feature_names=used_cols, \n",
    "                    leaves_parallel=True, node_ids=True, rotate=True)\n",
    "    with open(out_file) as f:\n",
    "        dot_graph = f.read()\n",
    "    return graphviz.Source(dot_graph)\n",
    "    \n",
    "\n",
    "def prune_index(inner_tree, index, threshold):\n",
    "    if inner_tree.value[index].min() < threshold:\n",
    "        # turn node into a leaf by \"unlinking\" its children\n",
    "        inner_tree.children_left[index] = TREE_LEAF\n",
    "        inner_tree.children_right[index] = TREE_LEAF\n",
    "    # if there are children, visit them as well\n",
    "    if inner_tree.children_left[index] != TREE_LEAF:\n",
    "        prune_index(inner_tree, inner_tree.children_left[index], threshold)\n",
    "        prune_index(inner_tree, inner_tree.children_right[index], threshold)"
   ]
  },
  {
   "cell_type": "code",
   "execution_count": 7,
   "metadata": {},
   "outputs": [
    {
     "name": "stdout",
     "output_type": "stream",
     "text": [
      "Terry_Stops_added_features.csv  subset.csv\r\n",
      "Terry_Stops_raw.csv\r\n"
     ]
    }
   ],
   "source": [
    "ls ../data"
   ]
  },
  {
   "cell_type": "code",
   "execution_count": 8,
   "metadata": {},
   "outputs": [],
   "source": [
    "df = pd.read_csv('../data/Terry_Stops_added_features.csv')"
   ]
  },
  {
   "cell_type": "code",
   "execution_count": 9,
   "metadata": {},
   "outputs": [
    {
     "data": {
      "text/plain": [
       "Index(['Subject Age Group', 'Subject ID', 'GO / SC Num', 'Terry Stop ID',\n",
       "       'Stop Resolution', 'Weapon Type', 'Officer ID', 'Officer YOB',\n",
       "       'Officer Gender', 'Officer Race', 'Subject Perceived Race',\n",
       "       'Subject Perceived Gender', 'Reported Date', 'Reported Time',\n",
       "       'Initial Call Type', 'Final Call Type', 'Call Type', 'Officer Squad',\n",
       "       'Arrest Flag', 'Frisk Flag', 'Precinct', 'Sector', 'Beat',\n",
       "       'subject_age_groups', 'stop_resolution', 'arrest_flag',\n",
       "       'weapon_present', 'officer_gender', 'officer_race', 'subject_race',\n",
       "       'subject_gender'],\n",
       "      dtype='object')"
      ]
     },
     "execution_count": 9,
     "metadata": {},
     "output_type": "execute_result"
    }
   ],
   "source": [
    "df.columns"
   ]
  },
  {
   "cell_type": "code",
   "execution_count": 10,
   "metadata": {},
   "outputs": [],
   "source": [
    "target = 'arrest_flag'"
   ]
  },
  {
   "cell_type": "code",
   "execution_count": 11,
   "metadata": {},
   "outputs": [],
   "source": [
    "excluded_cols = ['arrest_flag', 'Arrest Flag',\n",
    "                 'stop_resolution', 'Stop Resolution',\n",
    "                 'Subject ID', 'Subject Age Group']"
   ]
  },
  {
   "cell_type": "code",
   "execution_count": 13,
   "metadata": {},
   "outputs": [
    {
     "name": "stdout",
     "output_type": "stream",
     "text": [
      "0.9118151786288671 +/- 0.0563736157984876\n"
     ]
    }
   ],
   "source": [
    "# used_cols = [c for c in df.columns if c not in excluded_cols]\n",
    "used_cols = ['officer_gender', 'Reported Time', 'weapon_present', 'Initial Call Type']\n",
    "# used_cols = ['officer_gender', 'Reported Time', 'weapon_present']\n",
    "# used_cols = ['officer_gender', 'weapon_present', 'Initial Call Type']\n",
    "# used_cols = ['officer_gender', 'Reported Time']\n",
    "# used_cols = ['Reported Time']\n",
    "X = df[used_cols]\n",
    "y = df[target]\n",
    "X_train, X_test, y_train, y_test = train_test_split(X.values, y.values, \n",
    "                                                    test_size=.20, random_state=42, \n",
    "                                                    stratify=y.values)\n",
    "\n",
    "dt = DecisionTreeClassifier(criterion='entropy',\n",
    "                            max_depth=3,\n",
    "                            min_samples_leaf=5,\n",
    "                            random_state=42,\n",
    "                            class_weight='balanced')\n",
    "\n",
    "encoder = WOEEncoder()\n",
    "scorecard = make_pipeline(objectify, encoder, dt)\n",
    "\n",
    "scores = cross_val_score(scorecard, X, y, cv=5, scoring='accuracy')\n",
    "print(scores.mean(), \"+/-\", scores.std())"
   ]
  },
  {
   "cell_type": "code",
   "execution_count": 15,
   "metadata": {},
   "outputs": [
    {
     "data": {
      "text/html": [
       "<div>\n",
       "<style scoped>\n",
       "    .dataframe tbody tr th:only-of-type {\n",
       "        vertical-align: middle;\n",
       "    }\n",
       "\n",
       "    .dataframe tbody tr th {\n",
       "        vertical-align: top;\n",
       "    }\n",
       "\n",
       "    .dataframe thead th {\n",
       "        text-align: right;\n",
       "    }\n",
       "</style>\n",
       "<table border=\"1\" class=\"dataframe\">\n",
       "  <thead>\n",
       "    <tr style=\"text-align: right;\">\n",
       "      <th></th>\n",
       "      <th>officer_gender</th>\n",
       "      <th>Reported Time</th>\n",
       "      <th>weapon_present</th>\n",
       "      <th>Initial Call Type</th>\n",
       "    </tr>\n",
       "  </thead>\n",
       "  <tbody>\n",
       "    <tr>\n",
       "      <th>0</th>\n",
       "      <td>-0.021253</td>\n",
       "      <td>0.231792</td>\n",
       "      <td>-0.038832</td>\n",
       "      <td>-2.229887</td>\n",
       "    </tr>\n",
       "    <tr>\n",
       "      <th>1</th>\n",
       "      <td>-0.021253</td>\n",
       "      <td>0.432463</td>\n",
       "      <td>-0.038832</td>\n",
       "      <td>-2.229887</td>\n",
       "    </tr>\n",
       "    <tr>\n",
       "      <th>2</th>\n",
       "      <td>-0.021253</td>\n",
       "      <td>-0.260684</td>\n",
       "      <td>-0.038832</td>\n",
       "      <td>-2.229887</td>\n",
       "    </tr>\n",
       "    <tr>\n",
       "      <th>3</th>\n",
       "      <td>-0.021253</td>\n",
       "      <td>-0.340727</td>\n",
       "      <td>-0.038832</td>\n",
       "      <td>-2.229887</td>\n",
       "    </tr>\n",
       "    <tr>\n",
       "      <th>4</th>\n",
       "      <td>-0.021253</td>\n",
       "      <td>-0.203526</td>\n",
       "      <td>-0.038832</td>\n",
       "      <td>-2.229887</td>\n",
       "    </tr>\n",
       "    <tr>\n",
       "      <th>...</th>\n",
       "      <td>...</td>\n",
       "      <td>...</td>\n",
       "      <td>...</td>\n",
       "      <td>...</td>\n",
       "    </tr>\n",
       "    <tr>\n",
       "      <th>39392</th>\n",
       "      <td>-0.021253</td>\n",
       "      <td>0.000000</td>\n",
       "      <td>-0.038832</td>\n",
       "      <td>0.085189</td>\n",
       "    </tr>\n",
       "    <tr>\n",
       "      <th>39393</th>\n",
       "      <td>-0.021253</td>\n",
       "      <td>0.000000</td>\n",
       "      <td>-0.038832</td>\n",
       "      <td>0.553724</td>\n",
       "    </tr>\n",
       "    <tr>\n",
       "      <th>39394</th>\n",
       "      <td>-0.021253</td>\n",
       "      <td>0.000000</td>\n",
       "      <td>-0.038832</td>\n",
       "      <td>-2.229887</td>\n",
       "    </tr>\n",
       "    <tr>\n",
       "      <th>39395</th>\n",
       "      <td>-0.021253</td>\n",
       "      <td>2.224223</td>\n",
       "      <td>-0.038832</td>\n",
       "      <td>0.842052</td>\n",
       "    </tr>\n",
       "    <tr>\n",
       "      <th>39396</th>\n",
       "      <td>-0.021253</td>\n",
       "      <td>0.000000</td>\n",
       "      <td>-0.038832</td>\n",
       "      <td>-0.088313</td>\n",
       "    </tr>\n",
       "  </tbody>\n",
       "</table>\n",
       "<p>39397 rows × 4 columns</p>\n",
       "</div>"
      ],
      "text/plain": [
       "       officer_gender  Reported Time  weapon_present  Initial Call Type\n",
       "0           -0.021253       0.231792       -0.038832          -2.229887\n",
       "1           -0.021253       0.432463       -0.038832          -2.229887\n",
       "2           -0.021253      -0.260684       -0.038832          -2.229887\n",
       "3           -0.021253      -0.340727       -0.038832          -2.229887\n",
       "4           -0.021253      -0.203526       -0.038832          -2.229887\n",
       "...               ...            ...             ...                ...\n",
       "39392       -0.021253       0.000000       -0.038832           0.085189\n",
       "39393       -0.021253       0.000000       -0.038832           0.553724\n",
       "39394       -0.021253       0.000000       -0.038832          -2.229887\n",
       "39395       -0.021253       2.224223       -0.038832           0.842052\n",
       "39396       -0.021253       0.000000       -0.038832          -0.088313\n",
       "\n",
       "[39397 rows x 4 columns]"
      ]
     },
     "execution_count": 15,
     "metadata": {},
     "output_type": "execute_result"
    }
   ],
   "source": [
    "X_transformed = Pipeline(scorecard.steps[:-1]).fit_transform(X, y)\n",
    "dt.fit(X_transformed, y)\n",
    "plot_tree(dt, used_cols)\n",
    "X_transformed"
   ]
  },
  {
   "cell_type": "code",
   "execution_count": 16,
   "metadata": {},
   "outputs": [],
   "source": [
    "transformed_time = X_transformed.loc[(X_transformed['Reported Time'] > -0.005) &\n",
    "                                     (X_transformed['Reported Time'] <= 0.013)].index"
   ]
  },
  {
   "cell_type": "code",
   "execution_count": 17,
   "metadata": {},
   "outputs": [
    {
     "data": {
      "text/plain": [
       "4486"
      ]
     },
     "execution_count": 17,
     "metadata": {},
     "output_type": "execute_result"
    }
   ],
   "source": [
    "len(transformed_time)"
   ]
  },
  {
   "cell_type": "code",
   "execution_count": 18,
   "metadata": {},
   "outputs": [
    {
     "data": {
      "text/plain": [
       "1002"
      ]
     },
     "execution_count": 18,
     "metadata": {},
     "output_type": "execute_result"
    }
   ],
   "source": [
    "transformed_time[0]"
   ]
  },
  {
   "cell_type": "code",
   "execution_count": 19,
   "metadata": {},
   "outputs": [
    {
     "data": {
      "text/plain": [
       "2    01:06:00\n",
       "Name: Reported Time, dtype: object"
      ]
     },
     "execution_count": 19,
     "metadata": {},
     "output_type": "execute_result"
    }
   ],
   "source": [
    "df['Reported Time'].loc[df.index == 2]"
   ]
  },
  {
   "cell_type": "code",
   "execution_count": 20,
   "metadata": {},
   "outputs": [
    {
     "data": {
      "text/html": [
       "<div>\n",
       "<style scoped>\n",
       "    .dataframe tbody tr th:only-of-type {\n",
       "        vertical-align: middle;\n",
       "    }\n",
       "\n",
       "    .dataframe tbody tr th {\n",
       "        vertical-align: top;\n",
       "    }\n",
       "\n",
       "    .dataframe thead th {\n",
       "        text-align: right;\n",
       "    }\n",
       "</style>\n",
       "<table border=\"1\" class=\"dataframe\">\n",
       "  <thead>\n",
       "    <tr style=\"text-align: right;\">\n",
       "      <th></th>\n",
       "      <th>Subject Age Group</th>\n",
       "      <th>Subject ID</th>\n",
       "      <th>GO / SC Num</th>\n",
       "      <th>Terry Stop ID</th>\n",
       "      <th>Stop Resolution</th>\n",
       "      <th>Weapon Type</th>\n",
       "      <th>Officer ID</th>\n",
       "      <th>Officer YOB</th>\n",
       "      <th>Officer Gender</th>\n",
       "      <th>Officer Race</th>\n",
       "      <th>...</th>\n",
       "      <th>Sector</th>\n",
       "      <th>Beat</th>\n",
       "      <th>subject_age_groups</th>\n",
       "      <th>stop_resolution</th>\n",
       "      <th>arrest_flag</th>\n",
       "      <th>weapon_present</th>\n",
       "      <th>officer_gender</th>\n",
       "      <th>officer_race</th>\n",
       "      <th>subject_race</th>\n",
       "      <th>subject_gender</th>\n",
       "    </tr>\n",
       "  </thead>\n",
       "  <tbody>\n",
       "    <tr>\n",
       "      <th>1002</th>\n",
       "      <td>-</td>\n",
       "      <td>-1</td>\n",
       "      <td>20190000196375</td>\n",
       "      <td>8258254438</td>\n",
       "      <td>Field Contact</td>\n",
       "      <td>-</td>\n",
       "      <td>8605</td>\n",
       "      <td>1983</td>\n",
       "      <td>M</td>\n",
       "      <td>Asian</td>\n",
       "      <td>...</td>\n",
       "      <td>S</td>\n",
       "      <td>S3</td>\n",
       "      <td>7</td>\n",
       "      <td>1</td>\n",
       "      <td>0</td>\n",
       "      <td>0</td>\n",
       "      <td>0</td>\n",
       "      <td>4</td>\n",
       "      <td>1</td>\n",
       "      <td>0</td>\n",
       "    </tr>\n",
       "    <tr>\n",
       "      <th>1003</th>\n",
       "      <td>-</td>\n",
       "      <td>-1</td>\n",
       "      <td>20190000200272</td>\n",
       "      <td>8261687375</td>\n",
       "      <td>Offense Report</td>\n",
       "      <td>Knife/Cutting/Stabbing Instrument</td>\n",
       "      <td>8575</td>\n",
       "      <td>1984</td>\n",
       "      <td>F</td>\n",
       "      <td>White</td>\n",
       "      <td>...</td>\n",
       "      <td>E</td>\n",
       "      <td>E2</td>\n",
       "      <td>7</td>\n",
       "      <td>2</td>\n",
       "      <td>0</td>\n",
       "      <td>1</td>\n",
       "      <td>1</td>\n",
       "      <td>1</td>\n",
       "      <td>2</td>\n",
       "      <td>0</td>\n",
       "    </tr>\n",
       "    <tr>\n",
       "      <th>1004</th>\n",
       "      <td>-</td>\n",
       "      <td>-1</td>\n",
       "      <td>20190000202781</td>\n",
       "      <td>8266022402</td>\n",
       "      <td>Field Contact</td>\n",
       "      <td>-</td>\n",
       "      <td>8492</td>\n",
       "      <td>1989</td>\n",
       "      <td>M</td>\n",
       "      <td>White</td>\n",
       "      <td>...</td>\n",
       "      <td>K</td>\n",
       "      <td>K1</td>\n",
       "      <td>7</td>\n",
       "      <td>1</td>\n",
       "      <td>0</td>\n",
       "      <td>0</td>\n",
       "      <td>0</td>\n",
       "      <td>1</td>\n",
       "      <td>1</td>\n",
       "      <td>0</td>\n",
       "    </tr>\n",
       "    <tr>\n",
       "      <th>1023</th>\n",
       "      <td>-</td>\n",
       "      <td>-1</td>\n",
       "      <td>20190000192145</td>\n",
       "      <td>8249776941</td>\n",
       "      <td>Offense Report</td>\n",
       "      <td>-</td>\n",
       "      <td>6686</td>\n",
       "      <td>1969</td>\n",
       "      <td>M</td>\n",
       "      <td>White</td>\n",
       "      <td>...</td>\n",
       "      <td>B</td>\n",
       "      <td>B1</td>\n",
       "      <td>7</td>\n",
       "      <td>2</td>\n",
       "      <td>0</td>\n",
       "      <td>0</td>\n",
       "      <td>0</td>\n",
       "      <td>1</td>\n",
       "      <td>1</td>\n",
       "      <td>0</td>\n",
       "    </tr>\n",
       "    <tr>\n",
       "      <th>1024</th>\n",
       "      <td>-</td>\n",
       "      <td>-1</td>\n",
       "      <td>20190000197027</td>\n",
       "      <td>8258979624</td>\n",
       "      <td>Field Contact</td>\n",
       "      <td>-</td>\n",
       "      <td>8461</td>\n",
       "      <td>1982</td>\n",
       "      <td>M</td>\n",
       "      <td>White</td>\n",
       "      <td>...</td>\n",
       "      <td>U</td>\n",
       "      <td>U2</td>\n",
       "      <td>7</td>\n",
       "      <td>1</td>\n",
       "      <td>0</td>\n",
       "      <td>0</td>\n",
       "      <td>0</td>\n",
       "      <td>1</td>\n",
       "      <td>1</td>\n",
       "      <td>0</td>\n",
       "    </tr>\n",
       "  </tbody>\n",
       "</table>\n",
       "<p>5 rows × 31 columns</p>\n",
       "</div>"
      ],
      "text/plain": [
       "     Subject Age Group  Subject ID     GO / SC Num  Terry Stop ID  \\\n",
       "1002                 -          -1  20190000196375     8258254438   \n",
       "1003                 -          -1  20190000200272     8261687375   \n",
       "1004                 -          -1  20190000202781     8266022402   \n",
       "1023                 -          -1  20190000192145     8249776941   \n",
       "1024                 -          -1  20190000197027     8258979624   \n",
       "\n",
       "     Stop Resolution                        Weapon Type  Officer ID  \\\n",
       "1002   Field Contact                                  -        8605   \n",
       "1003  Offense Report  Knife/Cutting/Stabbing Instrument        8575   \n",
       "1004   Field Contact                                  -        8492   \n",
       "1023  Offense Report                                  -        6686   \n",
       "1024   Field Contact                                  -        8461   \n",
       "\n",
       "      Officer YOB Officer Gender Officer Race  ... Sector Beat  \\\n",
       "1002         1983              M        Asian  ...      S   S3   \n",
       "1003         1984              F        White  ...      E   E2   \n",
       "1004         1989              M        White  ...      K   K1   \n",
       "1023         1969              M        White  ...      B   B1   \n",
       "1024         1982              M        White  ...      U   U2   \n",
       "\n",
       "     subject_age_groups stop_resolution arrest_flag weapon_present  \\\n",
       "1002                  7               1           0              0   \n",
       "1003                  7               2           0              1   \n",
       "1004                  7               1           0              0   \n",
       "1023                  7               2           0              0   \n",
       "1024                  7               1           0              0   \n",
       "\n",
       "     officer_gender officer_race subject_race subject_gender  \n",
       "1002              0            4            1              0  \n",
       "1003              1            1            2              0  \n",
       "1004              0            1            1              0  \n",
       "1023              0            1            1              0  \n",
       "1024              0            1            1              0  \n",
       "\n",
       "[5 rows x 31 columns]"
      ]
     },
     "execution_count": 20,
     "metadata": {},
     "output_type": "execute_result"
    }
   ],
   "source": [
    "df.loc[transformed_time].head()"
   ]
  },
  {
   "cell_type": "code",
   "execution_count": 21,
   "metadata": {},
   "outputs": [],
   "source": [
    "df_node3 = df.loc[transformed_time]"
   ]
  },
  {
   "cell_type": "code",
   "execution_count": 22,
   "metadata": {},
   "outputs": [],
   "source": [
    "#df_node3.to_csv(path_or_buf = '../data/Seattle_Terry_Stops/data/subset.csv')"
   ]
  },
  {
   "cell_type": "code",
   "execution_count": null,
   "metadata": {},
   "outputs": [],
   "source": []
  }
 ],
 "metadata": {
  "kernelspec": {
   "display_name": "Python 3",
   "language": "python",
   "name": "python3"
  },
  "language_info": {
   "codemirror_mode": {
    "name": "ipython",
    "version": 3
   },
   "file_extension": ".py",
   "mimetype": "text/x-python",
   "name": "python",
   "nbconvert_exporter": "python",
   "pygments_lexer": "ipython3",
   "version": "3.7.5"
  }
 },
 "nbformat": 4,
 "nbformat_minor": 4
}
